{
 "cells": [
  {
   "cell_type": "code",
   "execution_count": 10,
   "metadata": {},
   "outputs": [],
   "source": [
    "from bs4 import BeautifulSoup\r\n",
    "import requests\r\n",
    "import urllib.parse"
   ]
  },
  {
   "cell_type": "markdown",
   "metadata": {},
   "source": [
    "# Find Rank given link"
   ]
  },
  {
   "cell_type": "code",
   "execution_count": 11,
   "metadata": {},
   "outputs": [],
   "source": [
    "URL = r'https://tracker.gg/valorant/profile/riot/Voark%23NA1/overview'\r\n",
    "\r\n",
    "def open_url(URL) -> 'soup':\r\n",
    "    page = requests.get(URL)\r\n",
    "    return BeautifulSoup(page.content, 'html.parser')"
   ]
  },
  {
   "cell_type": "code",
   "execution_count": 12,
   "metadata": {},
   "outputs": [
    {
     "name": "stdout",
     "output_type": "stream",
     "text": [
      "\n",
      "        Silver 3\n",
      "      \n"
     ]
    }
   ],
   "source": [
    "def find_rank(soup) -> 'rank':\r\n",
    "    search = soup.find('div', class_ = 'valorant-rank-bg')\r\n",
    "    return search.text\r\n",
    "\r\n",
    "soup = open_url(URL)\r\n",
    "print(find_rank(soup))"
   ]
  },
  {
   "cell_type": "markdown",
   "metadata": {},
   "source": [
    "# Find link given ID"
   ]
  },
  {
   "cell_type": "code",
   "execution_count": 13,
   "metadata": {},
   "outputs": [
    {
     "name": "stdout",
     "output_type": "stream",
     "text": [
      "https://tracker.gg/valorant/profile/riot/Vadikus%20%23007/overview?playlist=competitive\n"
     ]
    }
   ],
   "source": [
    "ID = r'Vadikus #007'\r\n",
    "def generate_url(ID):\r\n",
    "    return f'https://tracker.gg/valorant/profile/riot/{urllib.parse.quote(ID)}/overview?playlist=competitive'\r\n",
    "\r\n",
    "URL = generate_url(ID)\r\n",
    "print(URL)"
   ]
  },
  {
   "cell_type": "markdown",
   "metadata": {},
   "source": [
    "# Test unrated account"
   ]
  },
  {
   "cell_type": "code",
   "execution_count": 14,
   "metadata": {},
   "outputs": [
    {
     "name": "stdout",
     "output_type": "stream",
     "text": [
      "\n",
      "        Unrated\n",
      "      \n"
     ]
    }
   ],
   "source": [
    "print(find_rank(open_url(URL)))"
   ]
  },
  {
   "cell_type": "markdown",
   "metadata": {},
   "source": [
    "# Test private profile"
   ]
  },
  {
   "cell_type": "code",
   "execution_count": 31,
   "metadata": {},
   "outputs": [
    {
     "name": "stdout",
     "output_type": "stream",
     "text": [
      "\n",
      "          If this is your account, you can view your stats by continuing with Riot Sign On below!\n",
      "        \n",
      "Need to sign in\n"
     ]
    }
   ],
   "source": [
    "ID = r'israel#4249'\r\n",
    "URL = generate_url(ID)\r\n",
    "soup = open_url(URL)\r\n",
    "def process_soup(soup):\r\n",
    "    error = soup.find('p', class_ = 'error-message')\r\n",
    "    if error != None:\r\n",
    "        if error.text.strip() == 'If this is your account, you can view your stats by continuing with Riot Sign On below!':\r\n",
    "            print('Need to sign in')\r\n",
    "        elif error.text.strip() == 'Make sure you are not forgetting the # tag in the Riot ID, it\\'s required.':\r\n",
    "            print('Account doesn\\'t exist')\r\n",
    "process_soup(soup)"
   ]
  },
  {
   "cell_type": "markdown",
   "metadata": {},
   "source": [
    "# Test nonexistent profile"
   ]
  },
  {
   "cell_type": "code",
   "execution_count": 32,
   "metadata": {},
   "outputs": [
    {
     "name": "stdout",
     "output_type": "stream",
     "text": [
      "\n",
      "          Make sure you are not forgetting the # tag in the Riot ID, it's required.\n",
      "Account doesn't exist\n"
     ]
    }
   ],
   "source": [
    "ID = r'israel#234234'\r\n",
    "URL = generate_url(ID)\r\n",
    "soup = open_url(URL)\r\n",
    "process_soup(soup)"
   ]
  }
 ],
 "metadata": {
  "kernelspec": {
   "display_name": "Python 3.8.5 64-bit ('Discord': conda)",
   "metadata": {
    "interpreter": {
     "hash": "2856c61b5f2c355db7f58616fb1ba9389862777d4f61977f7ee5616a98358821"
    }
   },
   "name": "python3"
  },
  "language_info": {
   "codemirror_mode": {
    "name": "ipython",
    "version": 3
   },
   "file_extension": ".py",
   "mimetype": "text/x-python",
   "name": "python",
   "nbconvert_exporter": "python",
   "pygments_lexer": "ipython3",
   "version": "3.8.5"
  },
  "orig_nbformat": 2
 },
 "nbformat": 4,
 "nbformat_minor": 2
}